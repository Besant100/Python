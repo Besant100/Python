{
 "cells": [
  {
   "cell_type": "markdown",
   "metadata": {},
   "source": [
    "Exception = An event that interupts the flow of a program like the form of error (ZeroDivisionError,typeerror,valueerror)\n",
    "\n",
    "try\n",
    "except / catch\n",
    "finally"
   ]
  },
  {
   "cell_type": "code",
   "execution_count": 7,
   "metadata": {},
   "outputs": [
    {
     "name": "stdout",
     "output_type": "stream",
     "text": [
      "1.0\n"
     ]
    }
   ],
   "source": [
    "numerator = int(input(\"enter the numbber: \"))\n",
    "\n",
    "denominator = int(input(\"enter the numbber: \"))\n",
    "\n",
    "result = numerator / denominator\n",
    "\n",
    "print(result)"
   ]
  },
  {
   "cell_type": "code",
   "execution_count": null,
   "metadata": {},
   "outputs": [],
   "source": [
    "try:\n",
    "    numerator = int(input(\"enter the numbber: \"))\n",
    "    denominator = int(input(\"enter the numbber: \"))\n",
    "    result = numerator / denominator\n",
    "\n",
    "except ZeroDivisionError:\n",
    "    print(\"you cannot divide the number with zero idiots!!\")\n",
    "\n",
    "except ValueError:\n",
    "    print(\"you cannot \")"
   ]
  },
  {
   "cell_type": "markdown",
   "metadata": {},
   "source": [
    "Filehandling"
   ]
  },
  {
   "cell_type": "code",
   "execution_count": 4,
   "metadata": {},
   "outputs": [
    {
     "name": "stdout",
     "output_type": "stream",
     "text": [
      "im feel bad becouse one issues\n",
      "\n"
     ]
    }
   ],
   "source": [
    "with open('affan.txt') as file:  # Changed 'text,tx' to 'text.txt'  \n",
    "    print(file.read())  "
   ]
  },
  {
   "cell_type": "code",
   "execution_count": 14,
   "metadata": {},
   "outputs": [],
   "source": [
    "text = \"bjhgqiygig\\nvuvvuhvuyv\\nvugvhwbqbubo\\nhiiiiiiiiiii\\nhelloooo\"\n",
    "\n",
    "with open(\"Affan.txt\",'w') as file:\n",
    "    file.write(text)"
   ]
  },
  {
   "cell_type": "code",
   "execution_count": 13,
   "metadata": {},
   "outputs": [],
   "source": [
    "text = \"\\nyoooooooo\\nthis is some text\\nhave a good one\"\n",
    "\n",
    "with open(\"affan.txt\",'a') as file:\n",
    "    file.write(text)"
   ]
  },
  {
   "cell_type": "code",
   "execution_count": null,
   "metadata": {},
   "outputs": [],
   "source": [
    "import os \n",
    "\n",
    "path = \"Affan.txt\"\n",
    "\n",
    "try:\n",
    "    os.remove(path)\n",
    "\n",
    "except FileNotFoundError:\n",
    "    print(\"fille not foundError\")\n"
   ]
  },
  {
   "cell_type": "code",
   "execution_count": 15,
   "metadata": {},
   "outputs": [
    {
     "name": "stdout",
     "output_type": "stream",
     "text": [
      "File not found :( \n"
     ]
    }
   ],
   "source": [
    "try:  \n",
    "    with open('text.txt') as file:  # Changed 'text,tx' to 'text.txt'  \n",
    "        print(file.read())  \n",
    "        \n",
    "except FileNotFoundError:  \n",
    "    print(\"File not found :( \")\n",
    "\n",
    "\n",
    "   "
   ]
  },
  {
   "cell_type": "code",
   "execution_count": 16,
   "metadata": {},
   "outputs": [
    {
     "name": "stdout",
     "output_type": "stream",
     "text": [
      "0.6666666666666666\n"
     ]
    }
   ],
   "source": [
    "rumerator = int(input(\"Enter the number: \")) \n",
    "\n",
    "denominator = int(input(\"Enter the number: \"))\n",
    "\n",
    "result = rumerator / denominator \n",
    "\n",
    "print(result)\n"
   ]
  },
  {
   "cell_type": "code",
   "execution_count": 4,
   "metadata": {},
   "outputs": [
    {
     "name": "stdout",
     "output_type": "stream",
     "text": [
      "0.6666666666666666\n"
     ]
    }
   ],
   "source": [
    "try:  \n",
    "    rumerator = int(input(\"Enter the number: \")) \n",
    "    denominator = int(input(\"Enter the number: \"))\n",
    "    result = rumerator / denominator \n",
    "\n",
    "except ZeroDivisionError:\n",
    "    print(\"you cannot divide the number with zero idiots!\")\n",
    "\n",
    "else:\n",
    "    print(result)"
   ]
  },
  {
   "cell_type": "code",
   "execution_count": 7,
   "metadata": {},
   "outputs": [
    {
     "name": "stdout",
     "output_type": "stream",
     "text": [
      "you cannot add string and int together bro!\n"
     ]
    }
   ],
   "source": [
    "try:  \n",
    "    rumerator = int(input(\"Enter the number: \")) \n",
    "    denominator = int(input(\"Enter the number: \"))\n",
    "    result = rumerator / denominator \n",
    "\n",
    "except ZeroDivisionError:\n",
    "    print(\"you cannot divide the number with zero idiots!\")\n",
    "\n",
    "except  ValueError:\n",
    "    print(\"you cannot add string and int together bro!\")\n",
    "      \n",
    "\n",
    "else:\n",
    "    print(result)"
   ]
  }
 ],
 "metadata": {
  "kernelspec": {
   "display_name": "Python 3",
   "language": "python",
   "name": "python3"
  },
  "language_info": {
   "codemirror_mode": {
    "name": "ipython",
    "version": 3
   },
   "file_extension": ".py",
   "mimetype": "text/x-python",
   "name": "python",
   "nbconvert_exporter": "python",
   "pygments_lexer": "ipython3",
   "version": "3.13.0"
  }
 },
 "nbformat": 4,
 "nbformat_minor": 2
}
