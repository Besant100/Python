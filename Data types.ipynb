{
 "cells": [
  {
   "cell_type": "code",
   "execution_count": null,
   "metadata": {},
   "outputs": [],
   "source": [
    "Datatypes"
   ]
  },
  {
   "cell_type": "markdown",
   "metadata": {},
   "source": [
    "1.str--->(\"affan\") 2.int--->(20) 3.float--->(19.99) 4.Boolean--->(true or false)"
   ]
  },
  {
   "cell_type": "code",
   "execution_count": 4,
   "metadata": {},
   "outputs": [
    {
     "name": "stdout",
     "output_type": "stream",
     "text": [
      "25\n"
     ]
    }
   ],
   "source": [
    "age = 25\n",
    "\n",
    "print(age)"
   ]
  },
  {
   "cell_type": "code",
   "execution_count": 3,
   "metadata": {},
   "outputs": [
    {
     "name": "stdout",
     "output_type": "stream",
     "text": [
      "<class 'str'> affan\n"
     ]
    }
   ],
   "source": [
    "name = \"affan\"\n",
    "\n",
    "print(type(name),name)"
   ]
  },
  {
   "cell_type": "code",
   "execution_count": 5,
   "metadata": {},
   "outputs": [
    {
     "name": "stdout",
     "output_type": "stream",
     "text": [
      "<class 'float'> 21.99\n"
     ]
    }
   ],
   "source": [
    "price = 21.99\n",
    "\n",
    "print(type(price),price)"
   ]
  },
  {
   "cell_type": "code",
   "execution_count": 3,
   "metadata": {},
   "outputs": [
    {
     "name": "stdout",
     "output_type": "stream",
     "text": [
      "<class 'bool'> True\n"
     ]
    }
   ],
   "source": [
    "is_student =True\n",
    "\n",
    "print(type(is_student),is_student)   \n"
   ]
  },
  {
   "cell_type": "markdown",
   "metadata": {},
   "source": [
    "CASTING"
   ]
  },
  {
   "cell_type": "markdown",
   "metadata": {},
   "source": [
    "Changinng the datatypes"
   ]
  },
  {
   "cell_type": "code",
   "execution_count": 18,
   "metadata": {},
   "outputs": [
    {
     "name": "stdout",
     "output_type": "stream",
     "text": [
      "age:25,type:<class 'str'>\n"
     ]
    }
   ],
   "source": [
    "a = 20\n",
    "b = str(\"25\")\n",
    "\n",
    "print(f\"age:{b},type:{type(b)}\")"
   ]
  },
  {
   "cell_type": "code",
   "execution_count": 1,
   "metadata": {},
   "outputs": [
    {
     "name": "stdout",
     "output_type": "stream",
     "text": [
      "age:25,type:<class 'int'>\n"
     ]
    }
   ],
   "source": [
    "a = \"25\"\n",
    "b = int(\"25\")\n",
    "\n",
    "print(f\"age:{b},type:{type(b)}\")"
   ]
  },
  {
   "cell_type": "code",
   "execution_count": null,
   "metadata": {},
   "outputs": [],
   "source": [
    "a = \"20.88\"\n",
    "price =float(a)\n",
    "print(f\"price:{price},type:{type(price)}\")"
   ]
  },
  {
   "cell_type": "code",
   "execution_count": null,
   "metadata": {},
   "outputs": [],
   "source": [
    "price = 20.88\n",
    "price_int =int(price)\n",
    "print(f\"price_int:{price_int},type:{type(price_int)}\")"
   ]
  },
  {
   "cell_type": "code",
   "execution_count": 1,
   "metadata": {},
   "outputs": [
    {
     "name": "stdout",
     "output_type": "stream",
     "text": [
      "13\n",
      "7\n",
      "30\n",
      "3.3333333333333335\n",
      "1\n"
     ]
    }
   ],
   "source": [
    "a=10\n",
    "b=3\n",
    "\n",
    "print(a+b)\n",
    "print(a-b)\n",
    "print(a*b)\n",
    "print(a/b)\n",
    "print(a%b)\n"
   ]
  },
  {
   "cell_type": "code",
   "execution_count": null,
   "metadata": {},
   "outputs": [],
   "source": [
    "x=5 \n",
    "y=10\n",
    "\n",
    "print(x==y) #false\n",
    "print(x!=y) #true\n",
    "print(x<y)\n",
    "print(x>y)"
   ]
  },
  {
   "cell_type": "code",
   "execution_count": null,
   "metadata": {},
   "outputs": [],
   "source": [
    "x=10\n",
    "y=10\n",
    "\n",
    "print(x==y)\n",
    "print(x<=y)"
   ]
  },
  {
   "cell_type": "code",
   "execution_count": null,
   "metadata": {},
   "outputs": [],
   "source": [
    "a = False\n",
    "b = True\n",
    "\n",
    "#when both the number is True the print statment reture true else it  is fals\n",
    "\n",
    "print(a and b)\n",
    "\n",
    "# or when ether one of the statment is true the pirnt statment else\n",
    "\n",
    "print(a or b)\n",
    "\n",
    "\n",
    "print(not a)\n"
   ]
  },
  {
   "cell_type": "code",
   "execution_count": null,
   "metadata": {},
   "outputs": [],
   "source": [
    "a = 10\n",
    "b=10\n",
    "\n",
    "a+=10\n",
    "\n",
    "b%=5\n",
    "\n",
    "print(a)\n",
    "print(b)\n"
   ]
  },
  {
   "cell_type": "code",
   "execution_count": null,
   "metadata": {},
   "outputs": [],
   "source": [
    "fruits = (\"apple\",\"banna\",\"grapess\")\n",
    "\n",
    "print(\"banna\" in fruits)\n",
    "\n",
    "print(\"apple\" in fruits)"
   ]
  },
  {
   "cell_type": "code",
   "execution_count": 10,
   "metadata": {},
   "outputs": [
    {
     "name": "stdout",
     "output_type": "stream",
     "text": [
      "*******************\n"
     ]
    }
   ],
   "source": [
    "row = 10\n",
    "\n",
    "for i in range(1,row+1):\n",
    "   for j in range(row-i):\n",
    "    print(\"\",end=\"\")\n",
    "for j in range(2*i-1):\n",
    "  print(\"*\",end=\"\")\n",
    "print()"
   ]
  },
  {
   "cell_type": "code",
   "execution_count": 5,
   "metadata": {},
   "outputs": [
    {
     "name": "stdout",
     "output_type": "stream",
     "text": [
      "    *\n",
      "   ***\n",
      "  *****\n",
      " *******\n",
      "*********\n"
     ]
    }
   ],
   "source": [
    "row = int(input(\"enter number:\"))\n",
    "\n",
    "for i in range(1,row+1):\n",
    "  for j in range(row-i):\n",
    "    print(\" \",end=\"\")\n",
    "  for j in range(2*i-1):\n",
    "    print(\"*\",end=\"\")\n",
    "  print()"
   ]
  },
  {
   "cell_type": "code",
   "execution_count": 6,
   "metadata": {},
   "outputs": [
    {
     "name": "stdout",
     "output_type": "stream",
     "text": [
      "[1, 2, 3, 4, 5, 6]\n"
     ]
    }
   ],
   "source": [
    "list1 = [1,2,3]\n",
    "list2 = [4,5,6]\n",
    "list3 = list1+list2\n",
    "\n",
    "concad_list = list3\n",
    "print(concad_list)"
   ]
  },
  {
   "cell_type": "code",
   "execution_count": 4,
   "metadata": {},
   "outputs": [
    {
     "name": "stdout",
     "output_type": "stream",
     "text": [
      "[1, 2, 3, 1, 2, 3]\n"
     ]
    }
   ],
   "source": [
    "list1 = [1,2,3]\n",
    "\n",
    "repeated_list = list1*2\n",
    "print(repeated_list)"
   ]
  },
  {
   "cell_type": "code",
   "execution_count": 5,
   "metadata": {},
   "outputs": [
    {
     "name": "stdout",
     "output_type": "stream",
     "text": [
      "(1, 'hiii', 3.5)\n",
      "3.5\n"
     ]
    }
   ],
   "source": [
    "tup = (1,\"hiii\",3.5)\n",
    "print(tup)\n",
    "print(tup[2])"
   ]
  },
  {
   "cell_type": "code",
   "execution_count": 5,
   "metadata": {},
   "outputs": [
    {
     "name": "stdout",
     "output_type": "stream",
     "text": [
      "(1, 2, 3, 4, 5, 6)\n"
     ]
    }
   ],
   "source": [
    "tup1 =  (1,2,3)\n",
    "tup2 =  (4,5,6)\n",
    "concad_tup = tup1 + tup2\n",
    "print(concad_tup)"
   ]
  },
  {
   "cell_type": "markdown",
   "metadata": {},
   "source": [
    "Unpacking the tuple"
   ]
  },
  {
   "cell_type": "code",
   "execution_count": 6,
   "metadata": {},
   "outputs": [
    {
     "name": "stdout",
     "output_type": "stream",
     "text": [
      "apple\n"
     ]
    }
   ],
   "source": [
    "mu_tuple =  (\"apple\",\"grapess\",\"banana\",\"kivi\",\"mango\")\n",
    "fruit1,fruit2,fruit3 = mu_tuple\n",
    "print(fruit1)"
   ]
  },
  {
   "cell_type": "code",
   "execution_count": null,
   "metadata": {},
   "outputs": [],
   "source": [
    "nested_tup = (1,(2,3),(4,5,6))\n",
    "print(nested_tup[1])\n",
    "print(nested_tup[1][1])"
   ]
  },
  {
   "cell_type": "code",
   "execution_count": null,
   "metadata": {},
   "outputs": [],
   "source": [
    "my_tuple = (1,2,3,4,5,6,6,1,2,2,2,3,4,7)\n",
    "print(my_tuple.count(2))\n",
    "print(my_tuple.index(2))\n",
    "print(my_tuple.index(3))\n",
    "print(my_tuple.index(5))"
   ]
  },
  {
   "cell_type": "code",
   "execution_count": null,
   "metadata": {},
   "outputs": [],
   "source": [
    "my_set = {1,2,3,4,5,6,6}\n",
    "print(my_set)"
   ]
  },
  {
   "cell_type": "code",
   "execution_count": null,
   "metadata": {},
   "outputs": [],
   "source": [
    "sets1 = {1,2,3,4,\"kar\"}\n",
    "sets1.add(1)\n",
    "print(sets1)"
   ]
  },
  {
   "cell_type": "code",
   "execution_count": 6,
   "metadata": {},
   "outputs": [
    {
     "name": "stdout",
     "output_type": "stream",
     "text": [
      "set()\n"
     ]
    }
   ],
   "source": [
    "sets1 ={1,2,3,4,5,6}\n",
    "sets2 ={2,3,4,5,6,7,8}\n",
    "union_set = sets1.union(sets2)\n",
    "intersection_set = sets1.intersection(sets2)\n",
    "dif_set=sets2.difference(sets2)\n",
    "print(dif_set)"
   ]
  },
  {
   "cell_type": "code",
   "execution_count": 1,
   "metadata": {},
   "outputs": [
    {
     "name": "stdout",
     "output_type": "stream",
     "text": [
      "My name is Affan\n",
      "My age is 23\n"
     ]
    }
   ],
   "source": [
    "name=input()\n",
    "age= input()\n",
    "\n",
    "print(\"My name is\", name)\n",
    "print(\"My age is\", age)\n"
   ]
  },
  {
   "cell_type": "code",
   "execution_count": 4,
   "metadata": {},
   "outputs": [
    {
     "name": "stdout",
     "output_type": "stream",
     "text": [
      "My name is Affan\n",
      "My age is 23\n",
      "My Addres is Chennai\n"
     ]
    }
   ],
   "source": [
    "name=input()\n",
    "age= input()\n",
    "Address=input()\n",
    "\n",
    "print(\"My name is\", name)\n",
    "print(\"My age is\", age)\n",
    "print(\"My Addres is\", Address)"
   ]
  },
  {
   "cell_type": "code",
   "execution_count": 10,
   "metadata": {},
   "outputs": [
    {
     "name": "stdout",
     "output_type": "stream",
     "text": [
      "2.6666666666666665\n"
     ]
    }
   ],
   "source": [
    "a=int(input())\n",
    "b=int(input())\n",
    "c=int(input())\n",
    "d=a*b*c\n",
    "e=a+b+c\n",
    "f=d/e\n",
    "\n",
    "\n",
    "print(f)"
   ]
  },
  {
   "cell_type": "code",
   "execution_count": 11,
   "metadata": {},
   "outputs": [
    {
     "name": "stdout",
     "output_type": "stream",
     "text": [
      "my name is Affan\n",
      "my score is 0.5\n",
      "my department is Computer\n"
     ]
    }
   ],
   "source": [
    "name=input()\n",
    "score=int(input())\n",
    "department=input()\n",
    "\n",
    "print(\"my name is\", name)\n",
    "print(\"my score is\", score/10)\n",
    "print(\"my department is\",department)"
   ]
  },
  {
   "cell_type": "code",
   "execution_count": 2,
   "metadata": {},
   "outputs": [
    {
     "name": "stdout",
     "output_type": "stream",
     "text": [
      "<class 'list'>\n"
     ]
    }
   ],
   "source": [
    "len=([\"hello\",2,4,6])\n",
    "print(type(len))\n"
   ]
  },
  {
   "cell_type": "code",
   "execution_count": 2,
   "metadata": {},
   "outputs": [
    {
     "name": "stdout",
     "output_type": "stream",
     "text": [
      "A\n",
      "F\n",
      "F\n",
      "A\n",
      "N\n",
      " \n",
      "A\n",
      "H\n",
      "M\n",
      "E\n",
      "D\n"
     ]
    }
   ],
   "source": [
    "x='Affan Ahmed'\n",
    "for i in x:\n",
    "    print(i.upper())"
   ]
  },
  {
   "cell_type": "code",
   "execution_count": 9,
   "metadata": {},
   "outputs": [],
   "source": [
    "i = 1  \n",
    "while True:  # Use 'True' instead of 'true'  \n",
    "    if i % 3 == 0:  \n",
    "        break  \n",
    "        print(i)\n",
    "        \n",
    "    i += 1  # Make sure to increment 'i' to avoid an infinite loop\n",
    "\n"
   ]
  },
  {
   "cell_type": "code",
   "execution_count": 13,
   "metadata": {},
   "outputs": [
    {
     "name": "stdout",
     "output_type": "stream",
     "text": [
      "56.23\n"
     ]
    }
   ],
   "source": [
    "x = \"56.233\"  # Example string  \n",
    "print(\"%.2f\" % float(x))  # Convert x to float"
   ]
  }
 ],
 "metadata": {
  "kernelspec": {
   "display_name": "Python 3",
   "language": "python",
   "name": "python3"
  },
  "language_info": {
   "codemirror_mode": {
    "name": "ipython",
    "version": 3
   },
   "file_extension": ".py",
   "mimetype": "text/x-python",
   "name": "python",
   "nbconvert_exporter": "python",
   "pygments_lexer": "ipython3",
   "version": "3.13.0"
  }
 },
 "nbformat": 4,
 "nbformat_minor": 2
}
