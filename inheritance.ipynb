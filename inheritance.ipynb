{
 "cells": [
  {
   "cell_type": "code",
   "execution_count": 1,
   "metadata": {},
   "outputs": [
    {
     "name": "stdout",
     "output_type": "stream",
     "text": [
      "Dad's money\n",
      "Dad's money\n",
      "Dad's money\n"
     ]
    }
   ],
   "source": [
    "#hierarchical\n",
    "\n",
    "class dad():\n",
    "    def money(self):\n",
    "        print(\"Dad's money\")\n",
    "\n",
    "class son1(dad):\n",
    "    pass\n",
    "\n",
    "class son2(dad):\n",
    "    pass\n",
    "\n",
    "class son3(dad):\n",
    "    pass\n",
    "\n",
    "ram = son1()\n",
    "\n",
    "ram.money()\n",
    "\n",
    "suresh = son1()\n",
    "\n",
    "suresh.money()\n",
    "\n",
    "ramesh = son3()\n",
    "\n",
    "ramesh.money()"
   ]
  },
  {
   "cell_type": "code",
   "execution_count": 2,
   "metadata": {},
   "outputs": [
    {
     "name": "stdout",
     "output_type": "stream",
     "text": [
      "Animal speak\n",
      "Mammals can walk\n",
      "Bird can fly\n",
      "Its can fly as well as it can walk\n"
     ]
    }
   ],
   "source": [
    "# Hybrid inhertance\n",
    "\n",
    "class animal:\n",
    "    def speak(self):\n",
    "        print(\"Animal speak\")\n",
    "        \n",
    "class mammal(animal):\n",
    "    def walk(self):\n",
    "        print(\"Mammals can walk\")\n",
    "        \n",
    "class bird(animal):\n",
    "    def fly(self):\n",
    "        print(\"Bird can fly\")\n",
    "        \n",
    "class bat(mammal,bird):\n",
    "    def nocturnal(self):\n",
    "        print(\"Its can fly as well as it can walk\")\n",
    "        \n",
    "\n",
    "Bat = bat()\n",
    "\n",
    "Bat.speak()\n",
    "\n",
    "Bat.walk()\n",
    "\n",
    "Bat.fly()\n",
    "\n",
    "Bat.nocturnal()"
   ]
  },
  {
   "cell_type": "code",
   "execution_count": 5,
   "metadata": {},
   "outputs": [
    {
     "name": "stdout",
     "output_type": "stream",
     "text": [
      "Door is opened\n",
      "Throttle by yourself\n",
      "Burst inside\n",
      "Car is started\n"
     ]
    }
   ],
   "source": [
    "#Encapsulation\n",
    "\n",
    "class car:\n",
    "    \n",
    "    # public class\n",
    "    \n",
    "    def door_open(self):\n",
    "        print(\"Door is opened\")\n",
    "        self._car_accel()\n",
    "        \n",
    "    # Protected class\n",
    "    \n",
    "    def _car_accel(self):\n",
    "        print(\"Throttle by yourself\")\n",
    "        self.__engine_performing()\n",
    "        \n",
    "    def __engine_performing(self):\n",
    "        print(\"Burst inside\")\n",
    "        print(\"Car is started\")\n",
    "        \n",
    "Car = car()\n",
    "\n",
    "Car.door_open()\n",
    "\n"
   ]
  }
 ],
 "metadata": {
  "kernelspec": {
   "display_name": "Python 3",
   "language": "python",
   "name": "python3"
  },
  "language_info": {
   "codemirror_mode": {
    "name": "ipython",
    "version": 3
   },
   "file_extension": ".py",
   "mimetype": "text/x-python",
   "name": "python",
   "nbconvert_exporter": "python",
   "pygments_lexer": "ipython3",
   "version": "3.13.0"
  }
 },
 "nbformat": 4,
 "nbformat_minor": 2
}
