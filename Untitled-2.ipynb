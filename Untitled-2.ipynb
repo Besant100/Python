{
 "cells": [
  {
   "cell_type": "code",
   "execution_count": null,
   "metadata": {},
   "outputs": [],
   "source": []
  },
  {
   "cell_type": "code",
   "execution_count": 5,
   "metadata": {},
   "outputs": [
    {
     "name": "stdout",
     "output_type": "stream",
     "text": [
      "Name : affan\n",
      "Name : 23\n",
      "Name : 12th\n",
      "gmc mat school\n",
      "26\n",
      "{'name': 'affan', 'age': 26, 'subject': ['tamil', 'english', 'mathes'], 'school': 'gmc mat school'}\n"
     ]
    }
   ],
   "source": [
    "student = {\n",
    "    'name': 'affan',\n",
    "    'age' : '23',\n",
    "    'grade' : '12th',\n",
    "    'subject' : ['tamil','english','mathes',]\n",
    "}\n",
    "\n",
    "print(\"Name :\" ,student ['name'])\n",
    "\n",
    "print(\"Name :\" ,student ['age'])\n",
    "\n",
    "print(\"Name :\" ,student ['grade'])\n",
    "\n",
    "student['school']= 'gmc mat school'\n",
    "\n",
    "student['age']=26\n",
    "\n",
    "print(student['school'])\n",
    "\n",
    "print(student['age'])\n",
    "\n",
    "del(student['grade'])\n",
    "\n",
    "print(student)"
   ]
  },
  {
   "cell_type": "markdown",
   "metadata": {},
   "source": [
    "Oops cancept"
   ]
  },
  {
   "cell_type": "code",
   "execution_count": 1,
   "metadata": {},
   "outputs": [
    {
     "name": "stdout",
     "output_type": "stream",
     "text": [
      "30\n"
     ]
    }
   ],
   "source": [
    "def addition():\n",
    "    print(10+20)\n",
    "    \n",
    "addition()    "
   ]
  },
  {
   "cell_type": "code",
   "execution_count": 8,
   "metadata": {},
   "outputs": [],
   "source": [
    "def addition(a,b):\n",
    "    print(a+b)\n",
    "\n",
    "    addition(20,20)"
   ]
  },
  {
   "cell_type": "code",
   "execution_count": 2,
   "metadata": {},
   "outputs": [],
   "source": [
    "def addition(a,b):\n",
    "    return a+b\n",
    "    print (\"the addition is sucessfully executed\")\n",
    "\n",
    "\n",
    "    addition(1,3)"
   ]
  },
  {
   "cell_type": "markdown",
   "metadata": {},
   "source": [
    "Self Keyword\n",
    "\n",
    "__init__"
   ]
  },
  {
   "cell_type": "code",
   "execution_count": 2,
   "metadata": {},
   "outputs": [
    {
     "name": "stdout",
     "output_type": "stream",
     "text": [
      "brand : innova\n",
      "and the model is 2222\n",
      "2024\n",
      "red\n"
     ]
    }
   ],
   "source": [
    "class car:\n",
    "    def set_details(self,brand,model,year,color):\n",
    "        self.brand = brand\n",
    "        self.model = model\n",
    "        self.year = year\n",
    "        self.color = color\n",
    "\n",
    "    def display_details(self):\n",
    "        print(f\"brand : {self.brand}\")\n",
    "        print(f\"and the model is {self.model}\")\n",
    "        print(self.year)\n",
    "        print(self.color)\n",
    "\n",
    "my_car = car()\n",
    "\n",
    "my_car.set_details(\"innova\",2222,2024,\"red\")\n",
    "\n",
    "my_car.display_details()\n"
   ]
  },
  {
   "cell_type": "code",
   "execution_count": 1,
   "metadata": {},
   "outputs": [
    {
     "name": "stdout",
     "output_type": "stream",
     "text": [
      "Son's laptop\n",
      "Dad's money\n",
      "Mom's mobile\n"
     ]
    }
   ],
   "source": [
    "class Dad():  \n",
    "    def money(self):  \n",
    "        print(\"Dad's money\")  \n",
    "\n",
    "class Mom(Dad):  \n",
    "    def phone(self):  \n",
    "        print(\"Mom's mobile\")  \n",
    "\n",
    "class Son(Mom):  \n",
    "    def laptop(self):  \n",
    "        print(\"Son's laptop\")   \n",
    "\n",
    "# Create an instance of the Son class  \n",
    "my_son = Son()  \n",
    "\n",
    "# Call the methods  \n",
    "my_son.laptop()  # Output: Son's laptop  \n",
    "my_son.money()    # Output: Dad's money  \n",
    "my_son.phone()    # Output: Mom's mobile"
   ]
  },
  {
   "cell_type": "code",
   "execution_count": 2,
   "metadata": {},
   "outputs": [
    {
     "name": "stdout",
     "output_type": "stream",
     "text": [
      "first_name: Affan\n",
      "last_name: Ahmed\n",
      "DOB: 26052001\n",
      "gender: male\n"
     ]
    }
   ],
   "source": [
    "class Student:\n",
    "    def set_details(self, first_name, last_name, DOB, gender):\n",
    "        self.first_name = first_name\n",
    "        self.last_name = last_name\n",
    "        self.DOB = DOB\n",
    "        self.gender = gender\n",
    "\n",
    "    def display_details(self):\n",
    "        print(f\"first_name: {self.first_name}\")\n",
    "        print(f\"last_name: {self.last_name}\")\n",
    "        print(f\"DOB: {self.DOB}\")\n",
    "        print(f\"gender: {self.gender}\")\n",
    "\n",
    "my_Student = Student()\n",
    "\n",
    "my_Student.set_details(\"Affan\",\"Ahmed\",26052001,\"male\")\n",
    "\n",
    "my_Student.display_details()\n"
   ]
  }
 ],
 "metadata": {
  "kernelspec": {
   "display_name": "Python 3",
   "language": "python",
   "name": "python3"
  },
  "language_info": {
   "codemirror_mode": {
    "name": "ipython",
    "version": 3
   },
   "file_extension": ".py",
   "mimetype": "text/x-python",
   "name": "python",
   "nbconvert_exporter": "python",
   "pygments_lexer": "ipython3",
   "version": "3.13.0"
  }
 },
 "nbformat": 4,
 "nbformat_minor": 2
}
