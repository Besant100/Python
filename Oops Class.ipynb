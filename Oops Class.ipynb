{
 "cells": [
  {
   "cell_type": "markdown",
   "metadata": {},
   "source": [
    "Oops Notes"
   ]
  },
  {
   "cell_type": "code",
   "execution_count": 1,
   "metadata": {},
   "outputs": [
    {
     "name": "stdout",
     "output_type": "stream",
     "text": [
      "Brand : innova\n",
      "And the model is 1234\n",
      "2024\n",
      "Skyblue\n",
      "Brand : maruthi\n",
      "And the model is 673289\n",
      "2023\n",
      "red\n"
     ]
    }
   ],
   "source": [
    "class Car:\n",
    "    \n",
    "    def _init_(self):\n",
    "        print(\"this is studends details\")\n",
    "    \n",
    "    \n",
    "    def set_details(self,brand,model,year,color):\n",
    "        self.brand=brand\n",
    "        self.model=model\n",
    "        self.year = year\n",
    "        self.color=color\n",
    "        \n",
    "    def display_details(self):\n",
    "        print(f\"Brand : {self.brand}\")\n",
    "        print(f\"And the model is {self.model}\")\n",
    "        print(self.year)\n",
    "        print(self.color)\n",
    "        \n",
    "my_car = Car()\n",
    "\n",
    "my_car.set_details(\"innova\",1234,2024,\"Skyblue\")\n",
    "\n",
    "my_car.display_details()\n",
    "\n",
    "Frd_car = Car()\n",
    "\n",
    "Frd_car.set_details(\"maruthi\",673289,2023,\"red\")\n",
    "\n",
    "Frd_car.display_details()"
   ]
  }
 ],
 "metadata": {
  "kernelspec": {
   "display_name": "Python 3",
   "language": "python",
   "name": "python3"
  },
  "language_info": {
   "codemirror_mode": {
    "name": "ipython",
    "version": 3
   },
   "file_extension": ".py",
   "mimetype": "text/x-python",
   "name": "python",
   "nbconvert_exporter": "python",
   "pygments_lexer": "ipython3",
   "version": "3.13.0"
  }
 },
 "nbformat": 4,
 "nbformat_minor": 2
}
