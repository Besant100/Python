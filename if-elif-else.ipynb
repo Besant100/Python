{
 "cells": [
  {
   "cell_type": "markdown",
   "metadata": {},
   "source": [
    "Conditional Statements (if-elif-else)"
   ]
  },
  {
   "cell_type": "code",
   "execution_count": 9,
   "metadata": {},
   "outputs": [
    {
     "name": "stdout",
     "output_type": "stream",
     "text": [
      "grade of the student -> A\n"
     ]
    }
   ],
   "source": [
    "mark = int(input(\"enter the student: \"))\n",
    "\n",
    "if(mark >= 90):\n",
    "    grade = \"A\"\n",
    "elif(mark >=80 and mark <90):\n",
    "    grade = \"B\"\n",
    "elif(mark >=70 and mark <80):\n",
    "     grade = \"C\"\n",
    "else:\n",
    "    grade = \"D\"\n",
    "\n",
    "print(\"grade of the student ->\", grade)         \n"
   ]
  },
  {
   "cell_type": "markdown",
   "metadata": {},
   "source": [
    "Conditional Statements (if-elif-else) *Nesting*"
   ]
  },
  {
   "cell_type": "code",
   "execution_count": 2,
   "metadata": {},
   "outputs": [
    {
     "name": "stdout",
     "output_type": "stream",
     "text": [
      "cannot dirve\n"
     ]
    }
   ],
   "source": [
    "age = int(input(\"enter number: \"))\n",
    "\n",
    "if(age <=18):\n",
    "     if(age >=80):\n",
    "        print( \"cannot dirve\")\n",
    "     else:\n",
    "        print(\"can dirve\")\n",
    "else:\n",
    "     print(\"cannot dirve\")          "
   ]
  },
  {
   "cell_type": "code",
   "execution_count": 20,
   "metadata": {},
   "outputs": [
    {
     "name": "stdout",
     "output_type": "stream",
     "text": [
      "odd\n"
     ]
    }
   ],
   "source": [
    "num = int(input(\"enter number: \"))\n",
    "\n",
    "rem = num % 2\n",
    "\n",
    "if(rem == 0):\n",
    "    print(\"even\")\n",
    "else:\n",
    "    print(\"odd\")    "
   ]
  },
  {
   "cell_type": "code",
   "execution_count": 25,
   "metadata": {},
   "outputs": [
    {
     "name": "stdout",
     "output_type": "stream",
     "text": [
      "third is largest\n"
     ]
    }
   ],
   "source": [
    "a = int(input(\"enter first number: \"))\n",
    "b = int(input(\"enter first number: \"))\n",
    "c = int(input(\"enter first number: \"))\n",
    "\n",
    "if(a >=b and a >= c):\n",
    "     print(\"first number is largest\", a)\n",
    "elif(a <= c):\n",
    "     print(\"secont number is largest\", b)\n",
    "else:\n",
    "     print(\"third is largest\")          \n",
    "\n"
   ]
  },
  {
   "cell_type": "code",
   "execution_count": 33,
   "metadata": {},
   "outputs": [
    {
     "name": "stdout",
     "output_type": "stream",
     "text": [
      "mutiple of 5\n"
     ]
    }
   ],
   "source": [
    "x = int(input(\"enter first number: \"))\n",
    "\n",
    "if(x % 5 == 0):\n",
    "    print(\"mutiple of 5\")\n",
    "else:\n",
    "    print(\"not a mutipale\")    "
   ]
  },
  {
   "cell_type": "code",
   "execution_count": 2,
   "metadata": {},
   "outputs": [
    {
     "name": "stdout",
     "output_type": "stream",
     "text": [
      "No\n"
     ]
    }
   ],
   "source": [
    "if(False):\n",
    "    print(\"Yes\")\n",
    "\n",
    "else:\n",
    "    print(\"No\")"
   ]
  },
  {
   "cell_type": "code",
   "execution_count": 5,
   "metadata": {},
   "outputs": [
    {
     "name": "stdout",
     "output_type": "stream",
     "text": [
      "True\n"
     ]
    }
   ],
   "source": [
    "print(\"win\"==\"win\")"
   ]
  },
  {
   "cell_type": "code",
   "execution_count": 8,
   "metadata": {},
   "outputs": [
    {
     "name": "stdout",
     "output_type": "stream",
     "text": [
      "poichi\n"
     ]
    }
   ],
   "source": [
    "rcb=\"lose\"\n",
    "if(rcb==\"win\"):\n",
    "    print(\"Cub namaka \")\n",
    "\n",
    "else:\n",
    "    print(\"poichi\")"
   ]
  },
  {
   "cell_type": "code",
   "execution_count": 1,
   "metadata": {},
   "outputs": [
    {
     "name": "stdout",
     "output_type": "stream",
     "text": [
      "Meghna kuda dha\n"
     ]
    }
   ],
   "source": [
    "meghna=input()\n",
    "if(meghna==\"died\"):\n",
    "    print(\"avlo dha poichi surya dha\")\n",
    "\n",
    "else:\n",
    "    print(\"Meghna kuda dha\")"
   ]
  }
 ],
 "metadata": {
  "kernelspec": {
   "display_name": "Python 3",
   "language": "python",
   "name": "python3"
  },
  "language_info": {
   "codemirror_mode": {
    "name": "ipython",
    "version": 3
   },
   "file_extension": ".py",
   "mimetype": "text/x-python",
   "name": "python",
   "nbconvert_exporter": "python",
   "pygments_lexer": "ipython3",
   "version": "3.13.0"
  }
 },
 "nbformat": 4,
 "nbformat_minor": 2
}
