{
 "cells": [
  {
   "cell_type": "markdown",
   "metadata": {},
   "source": []
  },
  {
   "cell_type": "markdown",
   "metadata": {},
   "source": [
    "Abstraction"
   ]
  },
  {
   "cell_type": "code",
   "execution_count": 1,
   "metadata": {},
   "outputs": [],
   "source": [
    "from abc import ABC, abstractmethod\n",
    "\n",
    "class Puppy(ABC):\n",
    "\n",
    "    @abstractmethod\n",
    "    def Walk(self):\n",
    "        pass\n",
    "    \n",
    "    @abstractmethod\n",
    "    def sleep(self):\n",
    "        pass\n",
    "\n",
    "class Dog(Puppy):\n",
    "   \n",
    "    def Walk(self):\n",
    "        \n",
    "        return \"Dog is walking !\"\n",
    "   \n",
    "    def sleep(self):\n",
    "        return \"Dog is sleeping\""
   ]
  },
  {
   "cell_type": "code",
   "execution_count": 4,
   "metadata": {},
   "outputs": [
    {
     "name": "stdout",
     "output_type": "stream",
     "text": [
      "Dog sound: woof woof\n",
      "Dog independence: Dog is not independent\n",
      "Cat sound: meow meow\n",
      "Cat independence: Cat is independent\n"
     ]
    }
   ],
   "source": [
    "from abc import ABC, abstractmethod  \n",
    "\n",
    "\n",
    "# Abstract base class for all animals  \n",
    "class Animal(ABC):  \n",
    "    @abstractmethod  \n",
    "    def sound(self):  \n",
    "        pass  \n",
    "\n",
    "    @abstractmethod  \n",
    "    def independence(self):  \n",
    "        pass  \n",
    "\n",
    "\n",
    "# Dog class inherits from Animal and implements required methods  \n",
    "class Dog(Animal):  \n",
    "    def sound(self):  \n",
    "        return \"woof woof\"  \n",
    "\n",
    "    def independence(self):  \n",
    "        return \"Dog is not independent\"  \n",
    "\n",
    "\n",
    "# Cat class inherits from Animal and implements required methods  \n",
    "class Cat(Animal):  \n",
    "    def sound(self):  \n",
    "        return \"meow meow\"  \n",
    "\n",
    "    def independence(self):  \n",
    "        return \"Cat is independent\"  \n",
    "\n",
    "\n",
    "# Testing the classes  \n",
    "def main():  \n",
    "    animals = [Dog(), Cat()]  \n",
    "    \n",
    "    for animal in animals:  \n",
    "        print(f\"{type(animal).__name__} sound: {animal.sound()}\")  \n",
    "        print(f\"{type(animal).__name__} independence: {animal.independence()}\")  \n",
    "\n",
    "\n",
    "if __name__ == \"__main__\":  \n",
    "    main()"
   ]
  },
  {
   "cell_type": "code",
   "execution_count": 1,
   "metadata": {},
   "outputs": [
    {
     "name": "stdout",
     "output_type": "stream",
     "text": [
      "Meow\n",
      "Bark\n"
     ]
    }
   ],
   "source": [
    "class Animal():\n",
    "    def sound(self):\n",
    "        print(\"asdg\")\n",
    "\n",
    "class dog(Animal):\n",
    "    def sound(self):\n",
    "        print(\"Bark\")\n",
    "\n",
    "class cat(Animal):\n",
    "    def sound(self):\n",
    "        print(\"Meow\")\n",
    "\n",
    "Cat=cat()\n",
    "Dog=dog()\n",
    "\n",
    "Cat.sound()\n",
    "Dog.sound()"
   ]
  },
  {
   "cell_type": "code",
   "execution_count": 5,
   "metadata": {},
   "outputs": [
    {
     "name": "stdout",
     "output_type": "stream",
     "text": [
      "Meow\n",
      "Bark\n"
     ]
    }
   ],
   "source": [
    "class Animal():\n",
    "    def sound(self): #same function name \n",
    "        print(\"some sound\")\n",
    "\n",
    "class dog(Animal):\n",
    "    def sound(self): #same function name \n",
    "        print(\"Bark\")\n",
    "\n",
    "class cat(Animal): #same function name \n",
    "    def sound(self):\n",
    "        print(\"Meow\")\n",
    "\n",
    "Cat=cat()\n",
    "Dog=dog()\n",
    "\n",
    "Cat.sound()\n",
    "Dog.sound()"
   ]
  }
 ],
 "metadata": {
  "kernelspec": {
   "display_name": "Python 3",
   "language": "python",
   "name": "python3"
  },
  "language_info": {
   "codemirror_mode": {
    "name": "ipython",
    "version": 3
   },
   "file_extension": ".py",
   "mimetype": "text/x-python",
   "name": "python",
   "nbconvert_exporter": "python",
   "pygments_lexer": "ipython3",
   "version": "3.13.0"
  }
 },
 "nbformat": 4,
 "nbformat_minor": 2
}
